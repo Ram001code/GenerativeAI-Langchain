{
 "cells": [
  {
   "cell_type": "markdown",
   "id": "cc73910f",
   "metadata": {},
   "source": [
    "## Retrieval Agents\n",
    "\n",
    "We've seen in previous chapters how powerful `retrieval augmentation` and `conversational agents` can be. They become even more impressive when we begin using them together.\n",
    "\n",
    "Conversational agents can struggle with data freshness, knowledge about specific domains, or accessing internal documentation. By coupling agents with retrieval augmentation tools we no longer have these problems.\n",
    "\n",
    "One the other side, using \"naive\" retrieval augmentation without the use of an agent means we will retrieve contexts with every query. Again, this isn't always ideal as not every query requires access to external knowledge.\n",
    "\n",
    "Merging these methods gives us the best of both worlds. In this notebook we'll learn how to do this."
   ]
  },
  {
   "cell_type": "markdown",
   "id": "2b01b036",
   "metadata": {},
   "source": [
    "## For implemantation see this notebook : <a href=\"https://github.com/pinecone-io/examples/blob/master/learn/generation/langchain/handbook/08-langchain-retrieval-agent.ipynb\" target=\"_blank\">https://github.com/pinecone-io/examples/blob/master/learn/generation/langchain/handbook/08-langchain-retrieval-agent.ipynb</a>"
   ]
  },
  {
   "cell_type": "markdown",
   "id": "a7cc75e0",
   "metadata": {},
   "source": [
    "https://github.com/pinecone-io/examples/blob/master/learn/generation/langchain/handbook/08-langchain-retrieval-agent.ipynb"
   ]
  },
  {
   "cell_type": "code",
   "execution_count": 2,
   "id": "445b2eb0",
   "metadata": {},
   "outputs": [
    {
     "name": "stdout",
     "output_type": "stream",
     "text": [
      "Requirement already satisfied: pinecone-client[grpc]==2.2.1 in c:\\users\\ramshankar\\anaconda3\\lib\\site-packages (2.2.1)\n",
      "Requirement already satisfied: requests>=2.19.0 in c:\\users\\ramshankar\\anaconda3\\lib\\site-packages (from pinecone-client[grpc]==2.2.1) (2.31.0)\n",
      "Requirement already satisfied: pyyaml>=5.4 in c:\\users\\ramshankar\\anaconda3\\lib\\site-packages (from pinecone-client[grpc]==2.2.1) (6.0)\n",
      "Requirement already satisfied: loguru>=0.5.0 in c:\\users\\ramshankar\\anaconda3\\lib\\site-packages (from pinecone-client[grpc]==2.2.1) (0.7.2)\n",
      "Requirement already satisfied: typing-extensions>=3.7.4 in c:\\users\\ramshankar\\appdata\\roaming\\python\\python311\\site-packages (from pinecone-client[grpc]==2.2.1) (4.8.0)\n",
      "Requirement already satisfied: dnspython>=2.0.0 in c:\\users\\ramshankar\\anaconda3\\lib\\site-packages (from pinecone-client[grpc]==2.2.1) (2.4.2)\n",
      "Requirement already satisfied: python-dateutil>=2.5.3 in c:\\users\\ramshankar\\anaconda3\\lib\\site-packages (from pinecone-client[grpc]==2.2.1) (2.8.2)\n",
      "Requirement already satisfied: urllib3>=1.21.1 in c:\\users\\ramshankar\\anaconda3\\lib\\site-packages (from pinecone-client[grpc]==2.2.1) (1.26.16)\n",
      "Requirement already satisfied: tqdm>=4.64.1 in c:\\users\\ramshankar\\anaconda3\\lib\\site-packages (from pinecone-client[grpc]==2.2.1) (4.65.0)\n",
      "Requirement already satisfied: numpy in c:\\users\\ramshankar\\anaconda3\\lib\\site-packages (from pinecone-client[grpc]==2.2.1) (1.24.3)\n",
      "Requirement already satisfied: grpcio>=1.44.0 in c:\\users\\ramshankar\\appdata\\roaming\\python\\python311\\site-packages (from pinecone-client[grpc]==2.2.1) (1.59.2)\n",
      "Requirement already satisfied: grpc-gateway-protoc-gen-openapiv2==0.1.0 in c:\\users\\ramshankar\\anaconda3\\lib\\site-packages (from pinecone-client[grpc]==2.2.1) (0.1.0)\n",
      "Requirement already satisfied: googleapis-common-protos>=1.53.0 in c:\\users\\ramshankar\\anaconda3\\lib\\site-packages (from pinecone-client[grpc]==2.2.1) (1.56.4)\n",
      "Requirement already satisfied: lz4>=3.1.3 in c:\\users\\ramshankar\\anaconda3\\lib\\site-packages (from pinecone-client[grpc]==2.2.1) (4.3.2)\n",
      "Requirement already satisfied: protobuf==3.19.3 in c:\\users\\ramshankar\\anaconda3\\lib\\site-packages (from pinecone-client[grpc]==2.2.1) (3.19.3)\n",
      "Requirement already satisfied: colorama>=0.3.4 in c:\\users\\ramshankar\\anaconda3\\lib\\site-packages (from loguru>=0.5.0->pinecone-client[grpc]==2.2.1) (0.4.6)\n",
      "Requirement already satisfied: win32-setctime>=1.0.0 in c:\\users\\ramshankar\\anaconda3\\lib\\site-packages (from loguru>=0.5.0->pinecone-client[grpc]==2.2.1) (1.1.0)\n",
      "Requirement already satisfied: six>=1.5 in c:\\users\\ramshankar\\anaconda3\\lib\\site-packages (from python-dateutil>=2.5.3->pinecone-client[grpc]==2.2.1) (1.16.0)\n",
      "Requirement already satisfied: charset-normalizer<4,>=2 in c:\\users\\ramshankar\\anaconda3\\lib\\site-packages (from requests>=2.19.0->pinecone-client[grpc]==2.2.1) (2.0.4)\n",
      "Requirement already satisfied: idna<4,>=2.5 in c:\\users\\ramshankar\\anaconda3\\lib\\site-packages (from requests>=2.19.0->pinecone-client[grpc]==2.2.1) (3.4)\n",
      "Requirement already satisfied: certifi>=2017.4.17 in c:\\users\\ramshankar\\anaconda3\\lib\\site-packages (from requests>=2.19.0->pinecone-client[grpc]==2.2.1) (2023.11.17)\n"
     ]
    }
   ],
   "source": [
    "# !pip install \"pinecone-client[grpc]\"==2.2.1"
   ]
  },
  {
   "cell_type": "code",
   "execution_count": 6,
   "id": "ff261d88",
   "metadata": {},
   "outputs": [
    {
     "name": "stdout",
     "output_type": "stream",
     "text": [
      "Requirement already satisfied: datasets==2.12.0 in c:\\users\\ramshankar\\anaconda3\\lib\\site-packages (2.12.0)\n",
      "Requirement already satisfied: numpy>=1.17 in c:\\users\\ramshankar\\anaconda3\\lib\\site-packages (from datasets==2.12.0) (1.24.3)\n",
      "Requirement already satisfied: pyarrow>=8.0.0 in c:\\users\\ramshankar\\anaconda3\\lib\\site-packages (from datasets==2.12.0) (11.0.0)\n",
      "Requirement already satisfied: dill<0.3.7,>=0.3.0 in c:\\users\\ramshankar\\anaconda3\\lib\\site-packages (from datasets==2.12.0) (0.3.6)\n",
      "Requirement already satisfied: pandas in c:\\users\\ramshankar\\anaconda3\\lib\\site-packages (from datasets==2.12.0) (2.0.3)\n",
      "Requirement already satisfied: requests>=2.19.0 in c:\\users\\ramshankar\\anaconda3\\lib\\site-packages (from datasets==2.12.0) (2.31.0)\n",
      "Requirement already satisfied: tqdm>=4.62.1 in c:\\users\\ramshankar\\anaconda3\\lib\\site-packages (from datasets==2.12.0) (4.65.0)\n",
      "Requirement already satisfied: xxhash in c:\\users\\ramshankar\\anaconda3\\lib\\site-packages (from datasets==2.12.0) (2.0.2)\n",
      "Requirement already satisfied: multiprocess in c:\\users\\ramshankar\\anaconda3\\lib\\site-packages (from datasets==2.12.0) (0.70.14)\n",
      "Requirement already satisfied: fsspec[http]>=2021.11.1 in c:\\users\\ramshankar\\anaconda3\\lib\\site-packages (from datasets==2.12.0) (2023.12.2)\n",
      "Requirement already satisfied: aiohttp in c:\\users\\ramshankar\\anaconda3\\lib\\site-packages (from datasets==2.12.0) (3.8.5)\n",
      "Requirement already satisfied: huggingface-hub<1.0.0,>=0.11.0 in c:\\users\\ramshankar\\anaconda3\\lib\\site-packages (from datasets==2.12.0) (0.20.1)\n",
      "Requirement already satisfied: packaging in c:\\users\\ramshankar\\anaconda3\\lib\\site-packages (from datasets==2.12.0) (23.2)\n",
      "Requirement already satisfied: responses<0.19 in c:\\users\\ramshankar\\anaconda3\\lib\\site-packages (from datasets==2.12.0) (0.13.3)\n",
      "Requirement already satisfied: pyyaml>=5.1 in c:\\users\\ramshankar\\anaconda3\\lib\\site-packages (from datasets==2.12.0) (6.0)\n",
      "Requirement already satisfied: attrs>=17.3.0 in c:\\users\\ramshankar\\anaconda3\\lib\\site-packages (from aiohttp->datasets==2.12.0) (22.1.0)\n",
      "Requirement already satisfied: charset-normalizer<4.0,>=2.0 in c:\\users\\ramshankar\\anaconda3\\lib\\site-packages (from aiohttp->datasets==2.12.0) (2.0.4)\n",
      "Requirement already satisfied: multidict<7.0,>=4.5 in c:\\users\\ramshankar\\anaconda3\\lib\\site-packages (from aiohttp->datasets==2.12.0) (6.0.2)\n",
      "Requirement already satisfied: async-timeout<5.0,>=4.0.0a3 in c:\\users\\ramshankar\\anaconda3\\lib\\site-packages (from aiohttp->datasets==2.12.0) (4.0.2)\n",
      "Requirement already satisfied: yarl<2.0,>=1.0 in c:\\users\\ramshankar\\anaconda3\\lib\\site-packages (from aiohttp->datasets==2.12.0) (1.8.1)\n",
      "Requirement already satisfied: frozenlist>=1.1.1 in c:\\users\\ramshankar\\anaconda3\\lib\\site-packages (from aiohttp->datasets==2.12.0) (1.3.3)\n",
      "Requirement already satisfied: aiosignal>=1.1.2 in c:\\users\\ramshankar\\anaconda3\\lib\\site-packages (from aiohttp->datasets==2.12.0) (1.2.0)\n",
      "Requirement already satisfied: filelock in c:\\users\\ramshankar\\anaconda3\\lib\\site-packages (from huggingface-hub<1.0.0,>=0.11.0->datasets==2.12.0) (3.9.0)\n",
      "Requirement already satisfied: typing-extensions>=3.7.4.3 in c:\\users\\ramshankar\\appdata\\roaming\\python\\python311\\site-packages (from huggingface-hub<1.0.0,>=0.11.0->datasets==2.12.0) (4.8.0)\n",
      "Requirement already satisfied: idna<4,>=2.5 in c:\\users\\ramshankar\\anaconda3\\lib\\site-packages (from requests>=2.19.0->datasets==2.12.0) (3.4)\n",
      "Requirement already satisfied: urllib3<3,>=1.21.1 in c:\\users\\ramshankar\\anaconda3\\lib\\site-packages (from requests>=2.19.0->datasets==2.12.0) (1.26.16)\n",
      "Requirement already satisfied: certifi>=2017.4.17 in c:\\users\\ramshankar\\anaconda3\\lib\\site-packages (from requests>=2.19.0->datasets==2.12.0) (2023.11.17)\n",
      "Requirement already satisfied: six in c:\\users\\ramshankar\\anaconda3\\lib\\site-packages (from responses<0.19->datasets==2.12.0) (1.16.0)\n",
      "Requirement already satisfied: colorama in c:\\users\\ramshankar\\anaconda3\\lib\\site-packages (from tqdm>=4.62.1->datasets==2.12.0) (0.4.6)\n",
      "Requirement already satisfied: python-dateutil>=2.8.2 in c:\\users\\ramshankar\\anaconda3\\lib\\site-packages (from pandas->datasets==2.12.0) (2.8.2)\n",
      "Requirement already satisfied: pytz>=2020.1 in c:\\users\\ramshankar\\anaconda3\\lib\\site-packages (from pandas->datasets==2.12.0) (2023.3.post1)\n",
      "Requirement already satisfied: tzdata>=2022.1 in c:\\users\\ramshankar\\anaconda3\\lib\\site-packages (from pandas->datasets==2.12.0) (2023.3)\n"
     ]
    }
   ],
   "source": [
    "# !pip install datasets==2.12.0"
   ]
  },
  {
   "cell_type": "code",
   "execution_count": 8,
   "id": "cdde96ff",
   "metadata": {},
   "outputs": [
    {
     "ename": "FileNotFoundError",
     "evalue": "Couldn't find a dataset script at c:\\users\\ramshankar\\anaconda3\\lib\\site-packages\\squad\\squad.py or any data file in the same directory.",
     "output_type": "error",
     "traceback": [
      "\u001b[1;31m---------------------------------------------------------------------------\u001b[0m",
      "\u001b[1;31mFileNotFoundError\u001b[0m                         Traceback (most recent call last)",
      "Cell \u001b[1;32mIn[8], line 3\u001b[0m\n\u001b[0;32m      1\u001b[0m \u001b[38;5;28;01mfrom\u001b[39;00m \u001b[38;5;21;01mdatasets\u001b[39;00m \u001b[38;5;28;01mimport\u001b[39;00m load_dataset\n\u001b[1;32m----> 3\u001b[0m data \u001b[38;5;241m=\u001b[39m load_dataset(\u001b[38;5;124m'\u001b[39m\u001b[38;5;124mc://users//ramshankar//anaconda3//lib//site-packages//squad\u001b[39m\u001b[38;5;124m'\u001b[39m, split\u001b[38;5;241m=\u001b[39m\u001b[38;5;124m'\u001b[39m\u001b[38;5;124mtrain\u001b[39m\u001b[38;5;124m'\u001b[39m)\n\u001b[0;32m      4\u001b[0m data\n",
      "File \u001b[1;32m~\\anaconda3\\Lib\\site-packages\\datasets\\load.py:1773\u001b[0m, in \u001b[0;36mload_dataset\u001b[1;34m(path, name, data_dir, data_files, split, cache_dir, features, download_config, download_mode, verification_mode, ignore_verifications, keep_in_memory, save_infos, revision, use_auth_token, task, streaming, num_proc, storage_options, **config_kwargs)\u001b[0m\n\u001b[0;32m   1768\u001b[0m verification_mode \u001b[38;5;241m=\u001b[39m VerificationMode(\n\u001b[0;32m   1769\u001b[0m     (verification_mode \u001b[38;5;129;01mor\u001b[39;00m VerificationMode\u001b[38;5;241m.\u001b[39mBASIC_CHECKS) \u001b[38;5;28;01mif\u001b[39;00m \u001b[38;5;129;01mnot\u001b[39;00m save_infos \u001b[38;5;28;01melse\u001b[39;00m VerificationMode\u001b[38;5;241m.\u001b[39mALL_CHECKS\n\u001b[0;32m   1770\u001b[0m )\n\u001b[0;32m   1772\u001b[0m \u001b[38;5;66;03m# Create a dataset builder\u001b[39;00m\n\u001b[1;32m-> 1773\u001b[0m builder_instance \u001b[38;5;241m=\u001b[39m load_dataset_builder(\n\u001b[0;32m   1774\u001b[0m     path\u001b[38;5;241m=\u001b[39mpath,\n\u001b[0;32m   1775\u001b[0m     name\u001b[38;5;241m=\u001b[39mname,\n\u001b[0;32m   1776\u001b[0m     data_dir\u001b[38;5;241m=\u001b[39mdata_dir,\n\u001b[0;32m   1777\u001b[0m     data_files\u001b[38;5;241m=\u001b[39mdata_files,\n\u001b[0;32m   1778\u001b[0m     cache_dir\u001b[38;5;241m=\u001b[39mcache_dir,\n\u001b[0;32m   1779\u001b[0m     features\u001b[38;5;241m=\u001b[39mfeatures,\n\u001b[0;32m   1780\u001b[0m     download_config\u001b[38;5;241m=\u001b[39mdownload_config,\n\u001b[0;32m   1781\u001b[0m     download_mode\u001b[38;5;241m=\u001b[39mdownload_mode,\n\u001b[0;32m   1782\u001b[0m     revision\u001b[38;5;241m=\u001b[39mrevision,\n\u001b[0;32m   1783\u001b[0m     use_auth_token\u001b[38;5;241m=\u001b[39muse_auth_token,\n\u001b[0;32m   1784\u001b[0m     storage_options\u001b[38;5;241m=\u001b[39mstorage_options,\n\u001b[0;32m   1785\u001b[0m     \u001b[38;5;241m*\u001b[39m\u001b[38;5;241m*\u001b[39mconfig_kwargs,\n\u001b[0;32m   1786\u001b[0m )\n\u001b[0;32m   1788\u001b[0m \u001b[38;5;66;03m# Return iterable dataset in case of streaming\u001b[39;00m\n\u001b[0;32m   1789\u001b[0m \u001b[38;5;28;01mif\u001b[39;00m streaming:\n",
      "File \u001b[1;32m~\\anaconda3\\Lib\\site-packages\\datasets\\load.py:1502\u001b[0m, in \u001b[0;36mload_dataset_builder\u001b[1;34m(path, name, data_dir, data_files, cache_dir, features, download_config, download_mode, revision, use_auth_token, storage_options, **config_kwargs)\u001b[0m\n\u001b[0;32m   1500\u001b[0m     download_config \u001b[38;5;241m=\u001b[39m download_config\u001b[38;5;241m.\u001b[39mcopy() \u001b[38;5;28;01mif\u001b[39;00m download_config \u001b[38;5;28;01melse\u001b[39;00m DownloadConfig()\n\u001b[0;32m   1501\u001b[0m     download_config\u001b[38;5;241m.\u001b[39muse_auth_token \u001b[38;5;241m=\u001b[39m use_auth_token\n\u001b[1;32m-> 1502\u001b[0m dataset_module \u001b[38;5;241m=\u001b[39m dataset_module_factory(\n\u001b[0;32m   1503\u001b[0m     path,\n\u001b[0;32m   1504\u001b[0m     revision\u001b[38;5;241m=\u001b[39mrevision,\n\u001b[0;32m   1505\u001b[0m     download_config\u001b[38;5;241m=\u001b[39mdownload_config,\n\u001b[0;32m   1506\u001b[0m     download_mode\u001b[38;5;241m=\u001b[39mdownload_mode,\n\u001b[0;32m   1507\u001b[0m     data_dir\u001b[38;5;241m=\u001b[39mdata_dir,\n\u001b[0;32m   1508\u001b[0m     data_files\u001b[38;5;241m=\u001b[39mdata_files,\n\u001b[0;32m   1509\u001b[0m )\n\u001b[0;32m   1511\u001b[0m \u001b[38;5;66;03m# Get dataset builder class from the processing script\u001b[39;00m\n\u001b[0;32m   1512\u001b[0m builder_cls \u001b[38;5;241m=\u001b[39m import_main_class(dataset_module\u001b[38;5;241m.\u001b[39mmodule_path)\n",
      "File \u001b[1;32m~\\anaconda3\\Lib\\site-packages\\datasets\\load.py:1221\u001b[0m, in \u001b[0;36mdataset_module_factory\u001b[1;34m(path, revision, download_config, download_mode, dynamic_modules_path, data_dir, data_files, **download_kwargs)\u001b[0m\n\u001b[0;32m   1219\u001b[0m             \u001b[38;5;28;01mraise\u001b[39;00m e1 \u001b[38;5;28;01mfrom\u001b[39;00m \u001b[38;5;28;01mNone\u001b[39;00m\n\u001b[0;32m   1220\u001b[0m \u001b[38;5;28;01melse\u001b[39;00m:\n\u001b[1;32m-> 1221\u001b[0m     \u001b[38;5;28;01mraise\u001b[39;00m \u001b[38;5;167;01mFileNotFoundError\u001b[39;00m(\n\u001b[0;32m   1222\u001b[0m         \u001b[38;5;124mf\u001b[39m\u001b[38;5;124m\"\u001b[39m\u001b[38;5;124mCouldn\u001b[39m\u001b[38;5;124m'\u001b[39m\u001b[38;5;124mt find a dataset script at \u001b[39m\u001b[38;5;132;01m{\u001b[39;00mrelative_to_absolute_path(combined_path)\u001b[38;5;132;01m}\u001b[39;00m\u001b[38;5;124m or any data file in the same directory.\u001b[39m\u001b[38;5;124m\"\u001b[39m\n\u001b[0;32m   1223\u001b[0m     )\n",
      "\u001b[1;31mFileNotFoundError\u001b[0m: Couldn't find a dataset script at c:\\users\\ramshankar\\anaconda3\\lib\\site-packages\\squad\\squad.py or any data file in the same directory."
     ]
    }
   ],
   "source": [
    "from datasets import load_dataset\n",
    "\n",
    "data = load_dataset('c://users//ramshankar//anaconda3//lib//site-packages//squad', split='train')\n",
    "data"
   ]
  },
  {
   "cell_type": "code",
   "execution_count": null,
   "id": "b3b7fa32",
   "metadata": {},
   "outputs": [],
   "source": []
  },
  {
   "cell_type": "code",
   "execution_count": null,
   "id": "719ad300",
   "metadata": {},
   "outputs": [],
   "source": []
  },
  {
   "cell_type": "code",
   "execution_count": null,
   "id": "5d40b402",
   "metadata": {},
   "outputs": [],
   "source": []
  },
  {
   "cell_type": "code",
   "execution_count": null,
   "id": "d432bb4f",
   "metadata": {},
   "outputs": [],
   "source": []
  },
  {
   "cell_type": "code",
   "execution_count": null,
   "id": "3245d7aa",
   "metadata": {},
   "outputs": [],
   "source": []
  },
  {
   "cell_type": "code",
   "execution_count": null,
   "id": "3164c617",
   "metadata": {},
   "outputs": [],
   "source": []
  }
 ],
 "metadata": {
  "kernelspec": {
   "display_name": "Python 3 (ipykernel)",
   "language": "python",
   "name": "python3"
  },
  "language_info": {
   "codemirror_mode": {
    "name": "ipython",
    "version": 3
   },
   "file_extension": ".py",
   "mimetype": "text/x-python",
   "name": "python",
   "nbconvert_exporter": "python",
   "pygments_lexer": "ipython3",
   "version": "3.11.5"
  }
 },
 "nbformat": 4,
 "nbformat_minor": 5
}

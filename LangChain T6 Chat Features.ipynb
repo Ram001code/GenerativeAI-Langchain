{
 "cells": [
  {
   "cell_type": "code",
   "execution_count": 1,
   "id": "3849fe09",
   "metadata": {},
   "outputs": [],
   "source": [
    "import inspect\n",
    "\n",
    "from getpass import getpass\n",
    "from langchain import OpenAI\n",
    "from langchain import OpenAI, PromptTemplate\n",
    "from langchain.chains import LLMChain, ConversationChain\n",
    "from langchain.chains.conversation.memory import (ConversationBufferMemory, \n",
    "                                                 ConversationSummaryMemory, \n",
    "                                                 ConversationBufferWindowMemory, \n",
    "                                                 ConversationKGMemory)\n",
    "from langchain.callbacks import get_openai_callback\n",
    "import tiktoken\n",
    "from langchain.llms import AzureOpenAI\n",
    "from langchain.chat_models import AzureChatOpenAI"
   ]
  },
  {
   "cell_type": "code",
   "execution_count": 2,
   "id": "ba3ca1da",
   "metadata": {},
   "outputs": [],
   "source": [
    "import os\n",
    "import openai\n",
    "\n",
    "os.environ[\"OPENAI_API_TYPE\"] = openai.api_type = \"azure\"\n",
    "os.environ[\"OPENAI_API_VERSION\"] = openai.api_version = \"2022-12-01\" #\"2023-03-15-preview\"\n",
    "os.environ[\"OPENAI_API_BASE\"] = openai.api_base =  \"https://idocopenaigpt.openai.azure.com/\"\n",
    "os.environ[\"OPENAI_API_KEY\"] = openai.api_key = \"95776649ac7a4b048c834003fd315264\"#os.getenv(\"AZUREOPENAI_API_KEY\")"
   ]
  },
  {
   "cell_type": "code",
   "execution_count": 3,
   "id": "8ffaee5b",
   "metadata": {},
   "outputs": [
    {
     "name": "stderr",
     "output_type": "stream",
     "text": [
      "C:\\Users\\Ramshankar\\anaconda3\\Lib\\site-packages\\langchain_community\\chat_models\\azure_openai.py:161: UserWarning: As of openai>=1.0.0, Azure endpoints should be specified via the `azure_endpoint` param not `openai_api_base` (or alias `base_url`). Updating `openai_api_base` from https://idocopenaigpt.openai.azure.com/ to https://idocopenaigpt.openai.azure.com/openai.\n",
      "  warnings.warn(\n",
      "C:\\Users\\Ramshankar\\anaconda3\\Lib\\site-packages\\langchain_community\\chat_models\\azure_openai.py:168: UserWarning: As of openai>=1.0.0, if `deployment_name` (or alias `azure_deployment`) is specified then `openai_api_base` (or alias `base_url`) should not be. Instead use `deployment_name` (or alias `azure_deployment`) and `azure_endpoint`.\n",
      "  warnings.warn(\n",
      "C:\\Users\\Ramshankar\\anaconda3\\Lib\\site-packages\\langchain_community\\chat_models\\azure_openai.py:176: UserWarning: As of openai>=1.0.0, if `openai_api_base` (or alias `base_url`) is specified it is expected to be of the form https://example-resource.azure.openai.com/openai/deployments/example-deployment. Updating https://idocopenaigpt.openai.azure.com/ to https://idocopenaigpt.openai.azure.com/openai.\n",
      "  warnings.warn(\n"
     ]
    }
   ],
   "source": [
    "chat = AzureChatOpenAI(\n",
    "    deployment_name=\"chatllm16k\",\n",
    "    openai_api_version=\"2023-03-15-preview\",\n",
    "    model_name=\"gpt-3.5-turbo\",\n",
    "    temperature=0,\n",
    ")"
   ]
  },
  {
   "cell_type": "markdown",
   "id": "f201f014",
   "metadata": {},
   "source": [
    "Chats with the Chat-GPT model gpt-3.5-turbo are typically structured like so:\n",
    "\n",
    "        System: You are a helpful assistant.\n",
    "\n",
    "        User: Hi AI, how are you today?\n",
    "\n",
    "        Assistant: I'm great thank you. How can I help you?\n",
    "\n",
    "        User: I'd like to understand string theory.\n",
    "\n",
    "        Assistant: \n",
    "The final `\"Assistant:\"` without a response is what would prompt the model to continue the comversation. In the official OpenAI `ChatCompletion` endpoint these would be passed to the model in a format like:\n",
    "\n",
    "[\n",
    "    {\"role\": \"system\", \"content\": \"You are a helpful assistant.\"},\n",
    "    {\"role\": \"user\", \"content\": \"Hi AI, how are you today?\"},\n",
    "    {\"role\": \"assistant\", \"content\": \"I'm great thank you. How can I help you?\"}\n",
    "    {\"role\": \"user\", \"content\": \"I'd like to understand string theory.\"}\n",
    "]"
   ]
  },
  {
   "cell_type": "markdown",
   "id": "127a88bd",
   "metadata": {},
   "source": [
    "In LangChain there is a slightly different format. We use three message objects like so:"
   ]
  },
  {
   "cell_type": "code",
   "execution_count": 4,
   "id": "2098408f",
   "metadata": {},
   "outputs": [],
   "source": [
    "from langchain.schema import (\n",
    "    SystemMessage,\n",
    "    HumanMessage,\n",
    "    AIMessage\n",
    ")\n",
    "\n",
    "messages = [\n",
    "    SystemMessage(content=\"You are a helpful assistant.\"),\n",
    "    HumanMessage(content=\"Hi AI, how are you today?\"),\n",
    "    AIMessage(content=\"I'm great thank you. How can I help you?\"),\n",
    "    HumanMessage(content=\"I'd like to understand string theory.\")\n",
    "]"
   ]
  },
  {
   "cell_type": "markdown",
   "id": "d364413e",
   "metadata": {},
   "source": [
    "The format is very similar, we're just swapper the role of `\"user\"` for `HumanMessage`, and the role of `\"assistant\"` for `AIMessage`.\n",
    "\n",
    "We generate the next response from the AI by passing these messages to the `ChatOpenAI` object."
   ]
  },
  {
   "cell_type": "code",
   "execution_count": 5,
   "id": "6c827e9f",
   "metadata": {},
   "outputs": [
    {
     "data": {
      "text/plain": [
       "AIMessage(content=\"String theory is a theoretical framework in physics that aims to describe the fundamental nature of the universe. It suggests that the fundamental building blocks of the universe are not point-like particles, but tiny, vibrating strings. These strings can vibrate at different frequencies, giving rise to different particles and their properties.\\n\\nHere are some key points about string theory:\\n\\n1. Dimensions: String theory requires the existence of extra dimensions beyond the three spatial dimensions (length, width, and height) that we are familiar with. The most widely studied version of string theory, called superstring theory, suggests that there are 10 dimensions in total, with 6 of them being compactified or curled up into tiny, undetectable sizes.\\n\\n2. Unification: String theory attempts to unify all the fundamental forces of nature, including gravity, electromagnetism, and the strong and weak nuclear forces. It provides a framework where these forces can be described by the vibrational patterns of the strings.\\n\\n3. Quantum Mechanics: String theory is inherently a quantum theory, meaning it incorporates the principles of quantum mechanics. It describes particles and their interactions in terms of probabilities and wave-like behavior.\\n\\n4. Multiverse: String theory also suggests the possibility of a multiverse, where our universe is just one of many possible universes. These other universes may have different physical laws and properties, making string theory a candidate for explaining the existence of multiple universes.\\n\\nIt's important to note that string theory is still a work in progress and has not yet been experimentally confirmed. However, it has provided valuable insights into various areas of physics and continues to be an active area of research.\\n\\nIf you have any specific questions or would like to delve deeper into any aspect of string theory, feel free to ask!\")"
      ]
     },
     "execution_count": 5,
     "metadata": {},
     "output_type": "execute_result"
    }
   ],
   "source": [
    "res = chat(messages)\n",
    "res"
   ]
  },
  {
   "cell_type": "markdown",
   "id": "81959e4b",
   "metadata": {},
   "source": [
    "In response we get another AI message object. We can print it more clearly like so:"
   ]
  },
  {
   "cell_type": "code",
   "execution_count": 6,
   "id": "2bd8d1b0",
   "metadata": {},
   "outputs": [
    {
     "name": "stdout",
     "output_type": "stream",
     "text": [
      "String theory is a theoretical framework in physics that aims to describe the fundamental nature of the universe. It suggests that the fundamental building blocks of the universe are not point-like particles, but tiny, vibrating strings. These strings can vibrate at different frequencies, giving rise to different particles and their properties.\n",
      "\n",
      "Here are some key points about string theory:\n",
      "\n",
      "1. Dimensions: String theory requires the existence of extra dimensions beyond the three spatial dimensions (length, width, and height) that we are familiar with. The most widely studied version of string theory, called superstring theory, suggests that there are 10 dimensions in total, with 6 of them being compactified or curled up into tiny, undetectable sizes.\n",
      "\n",
      "2. Unification: String theory attempts to unify all the fundamental forces of nature, including gravity, electromagnetism, and the strong and weak nuclear forces. It provides a framework where these forces can be described by the vibrational patterns of the strings.\n",
      "\n",
      "3. Quantum Mechanics: String theory is inherently a quantum theory, meaning it incorporates the principles of quantum mechanics. It describes particles and their interactions in terms of probabilities and wave-like behavior.\n",
      "\n",
      "4. Multiverse: String theory also suggests the possibility of a multiverse, where our universe is just one of many possible universes. These other universes may have different physical laws and properties, making string theory a candidate for explaining the existence of multiple universes.\n",
      "\n",
      "It's important to note that string theory is still a work in progress and has not yet been experimentally confirmed. However, it has provided valuable insights into various areas of physics and continues to be an active area of research.\n",
      "\n",
      "If you have any specific questions or would like to delve deeper into any aspect of string theory, feel free to ask!\n"
     ]
    }
   ],
   "source": [
    "print(res.content)"
   ]
  },
  {
   "cell_type": "markdown",
   "id": "643ef3f4",
   "metadata": {},
   "source": [
    "Because `res` is just another `AIMessage` object, we can append it to `messages`, add another `HumanMessage`, and generate the next response in the conversation."
   ]
  },
  {
   "cell_type": "code",
   "execution_count": 7,
   "id": "a6ec8943",
   "metadata": {},
   "outputs": [
    {
     "name": "stdout",
     "output_type": "stream",
     "text": [
      "Physicists believe that string theory has the potential to produce a unified theory because it incorporates all the fundamental forces of nature within a single framework. Here are a few reasons why string theory is considered a candidate for a unified theory:\n",
      "\n",
      "1. Gravity and Quantum Mechanics: One of the biggest challenges in physics is reconciling gravity, described by Einstein's theory of general relativity, with quantum mechanics, which governs the behavior of particles at the smallest scales. String theory naturally includes gravity and is inherently a quantum theory, providing a potential framework for unifying these two fundamental theories.\n",
      "\n",
      "2. Consistency and Renormalizability: String theory resolves some of the mathematical inconsistencies that arise when trying to combine quantum mechanics with general relativity. It is a mathematically consistent theory that avoids the infinities encountered in other attempts at unification, such as quantum field theory.\n",
      "\n",
      "3. Gauge Symmetry: String theory incorporates gauge symmetry, which is a fundamental principle in particle physics. Gauge symmetry describes the symmetries of the fundamental forces and their interactions. By including gauge symmetry, string theory has the potential to describe all the known fundamental forces within a single framework.\n",
      "\n",
      "4. Dualities: String theory exhibits various dualities, which are mathematical equivalences between different formulations of the theory. These dualities suggest that seemingly different versions of string theory are actually different descriptions of the same underlying physics. This hints at a deeper underlying unity and suggests that string theory may be capable of describing a wide range of physical phenomena.\n",
      "\n",
      "While these reasons provide motivation for believing in the potential of string theory as a unified theory, it's important to note that the theory is still under development and faces many challenges. Experimental evidence is currently lacking, and there are still many unanswered questions and areas of active research within string theory.\n",
      "\n",
      "It's worth mentioning that there are also alternative approaches to unification, such as loop quantum gravity and supersymmetry, which are actively explored by physicists. The search for a unified theory is an ongoing endeavor, and scientists continue to explore different avenues to understand the fundamental nature of the universe.\n"
     ]
    }
   ],
   "source": [
    "# add latest AI response to messages\n",
    "messages.append(res)\n",
    "\n",
    "# now create a new user prompt\n",
    "prompt = HumanMessage(\n",
    "    content=\"Why do physicists believe it can produce a 'unified theory'?\"\n",
    ")\n",
    "# add to messages\n",
    "messages.append(prompt)\n",
    "\n",
    "# send to chat-gpt\n",
    "res = chat(messages)\n",
    "\n",
    "print(res.content)"
   ]
  },
  {
   "cell_type": "markdown",
   "id": "b99851dd",
   "metadata": {},
   "source": [
    "# New Prompt Templates\n",
    "\n",
    "Alongside what we've seen so far there are also three new prompt templates that we can use. Those are the `SystemMessagePromptTemplate`, `AIMessagePromptTemplate`, and `HumanMessagePromptTemplate`.\n",
    "\n",
    "These are simply an extension of Langchain's prompt templates that modify the returning \"prompt\" to be a `SystemMessage`, `AIMessage`, or `HumanMessage` object respectively.\n",
    "\n",
    "For now, there are not a huge number of use-cases for these objects. However, if we have something that we'd like to add to our messages, this can be helpful. For example, let's say we'd like our AI responses to always consist of no more than 50 characters.\n",
    "\n",
    "Using the current OpenAI `gpt-3.5-turbo-0301` model, we might run into issues if passing this instruction in the first system message only."
   ]
  },
  {
   "cell_type": "code",
   "execution_count": 8,
   "id": "635cec71",
   "metadata": {},
   "outputs": [],
   "source": [
    "# chat = ChatOpenAI(\n",
    "#     openai_api_key=OPENAI_API_KEY,\n",
    "#     temperature=0,\n",
    "#     model='gpt-3.5-turbo-0301'\n",
    "# )\n",
    "\n",
    "# setup first system message\n",
    "messages = [\n",
    "    SystemMessage(content=(\n",
    "        'You are a helpful assistant. You keep responses to no more than '\n",
    "        '100 characters long (including whitespace), and sign off every '\n",
    "        'message with a random name like \"Robot McRobot\" or \"Bot Rob\".'\n",
    "    )),\n",
    "    HumanMessage(content=\"Hi AI, how are you? What is quantum physics?\")\n",
    "]"
   ]
  },
  {
   "cell_type": "markdown",
   "id": "38bc1349",
   "metadata": {},
   "source": [
    "Now make our first completion."
   ]
  },
  {
   "cell_type": "code",
   "execution_count": 9,
   "id": "6c71edc1",
   "metadata": {},
   "outputs": [
    {
     "name": "stdout",
     "output_type": "stream",
     "text": [
      "Length: 119\n",
      "I'm good! Quantum physics is a branch of physics that studies the behavior of matter and energy at the smallest scales.\n"
     ]
    }
   ],
   "source": [
    "res = chat(messages)\n",
    "\n",
    "print(f\"Length: {len(res.content)}\\n{res.content}\")"
   ]
  },
  {
   "cell_type": "markdown",
   "id": "0f1a7e70",
   "metadata": {},
   "source": [
    "Okay, seems like our AI assistant isn't so good at following either of our instructions. What if we add these instructions to the `HumanMessage` via a `HumanMessagePromptTemplate`?"
   ]
  },
  {
   "cell_type": "code",
   "execution_count": 10,
   "id": "6d8687cb",
   "metadata": {},
   "outputs": [
    {
     "data": {
      "text/plain": [
       "ChatPromptValue(messages=[HumanMessage(content='Hi AI, how are you? What is quantum physics? Can you keep the response to no more than 100 characters (including whitespace), and sign off with a random name like \"Robot McRobot\" or \"Bot Rob\".')])"
      ]
     },
     "execution_count": 10,
     "metadata": {},
     "output_type": "execute_result"
    }
   ],
   "source": [
    "from langchain.prompts.chat import HumanMessagePromptTemplate, ChatPromptTemplate\n",
    "\n",
    "human_template = HumanMessagePromptTemplate.from_template(\n",
    "    '{input} Can you keep the response to no more than 100 characters '+\n",
    "    '(including whitespace), and sign off with a random name like \"Robot '+\n",
    "    'McRobot\" or \"Bot Rob\".'\n",
    ")\n",
    "\n",
    "# create the human message\n",
    "chat_prompt = ChatPromptTemplate.from_messages([human_template])\n",
    "# format with some input\n",
    "chat_prompt_value = chat_prompt.format_prompt(\n",
    "    input=\"Hi AI, how are you? What is quantum physics?\"\n",
    ")\n",
    "chat_prompt_value"
   ]
  },
  {
   "cell_type": "markdown",
   "id": "22cbfefb",
   "metadata": {},
   "source": [
    "Note that to use `HumanMessagePromptTemplate` as typical a prompt templates with the `.format_prompt` method, we needed to pass it through a `ChatPromptTemplate` object. This is case for all of the new chat-based prompt templates.\n",
    "\n",
    "Using this we return a `ChatPromptValue` object. This can be formatted into a list or string like so:"
   ]
  },
  {
   "cell_type": "code",
   "execution_count": 11,
   "id": "5ebee7e7",
   "metadata": {},
   "outputs": [
    {
     "data": {
      "text/plain": [
       "[HumanMessage(content='Hi AI, how are you? What is quantum physics? Can you keep the response to no more than 100 characters (including whitespace), and sign off with a random name like \"Robot McRobot\" or \"Bot Rob\".')]"
      ]
     },
     "execution_count": 11,
     "metadata": {},
     "output_type": "execute_result"
    }
   ],
   "source": [
    "chat_prompt_value.to_messages()"
   ]
  },
  {
   "cell_type": "code",
   "execution_count": 12,
   "id": "9f776c62",
   "metadata": {},
   "outputs": [
    {
     "data": {
      "text/plain": [
       "'Human: Hi AI, how are you? What is quantum physics? Can you keep the response to no more than 100 characters (including whitespace), and sign off with a random name like \"Robot McRobot\" or \"Bot Rob\".'"
      ]
     },
     "execution_count": 12,
     "metadata": {},
     "output_type": "execute_result"
    }
   ],
   "source": [
    "chat_prompt_value.to_string()"
   ]
  },
  {
   "cell_type": "code",
   "execution_count": 13,
   "id": "8096be8f",
   "metadata": {},
   "outputs": [
    {
     "name": "stdout",
     "output_type": "stream",
     "text": [
      "Length: 98\n",
      "I'm good! Quantum physics is a branch of physics that studies the behavior of particles. - Bot Rob\n"
     ]
    }
   ],
   "source": [
    "messages = [\n",
    "    SystemMessage(content=(\n",
    "        'You are a helpful assistant. You keep responses to no more than '\n",
    "        '100 characters long (including whitespace), and sign off every '\n",
    "        'message with a random name like \"Robot McRobot\" or \"Bot Rob\".'\n",
    "    )),\n",
    "    chat_prompt.format_prompt(\n",
    "        input=\"Hi AI, how are you? What is quantum physics?\"\n",
    "    ).to_messages()[0]\n",
    "]\n",
    "\n",
    "res = chat(messages)\n",
    "\n",
    "print(f\"Length: {len(res.content)}\\n{res.content}\")"
   ]
  },
  {
   "cell_type": "markdown",
   "id": "0c2a51a4",
   "metadata": {},
   "source": [
    "This time we get pretty close, we're slightly over the character limit (by 8 characters), and we got a sign off with - `Bot Rob.`\n",
    "\n",
    "We can also use the prompt templates approach for building an initial system message with a few examples for the chatbot to follow — __few-shot training via examples. Let's see what that looks like__."
   ]
  },
  {
   "cell_type": "code",
   "execution_count": 14,
   "id": "30e89085",
   "metadata": {},
   "outputs": [
    {
     "data": {
      "text/plain": [
       "ChatPromptValue(messages=[SystemMessage(content='You are a helpful assistant. You keep responses to no more than 50 characters long (including whitespace), and sign off every message with \"- Robot McRobot'), HumanMessage(content='Hi AI, how are you? What is quantum physics?'), AIMessage(content=\"Good! It's physics of small things - Robot McRobot\")])"
      ]
     },
     "execution_count": 14,
     "metadata": {},
     "output_type": "execute_result"
    }
   ],
   "source": [
    "from langchain.prompts.chat import (\n",
    "    SystemMessagePromptTemplate,\n",
    "    AIMessagePromptTemplate\n",
    ")\n",
    "\n",
    "system_template = SystemMessagePromptTemplate.from_template(\n",
    "    'You are a helpful assistant. You keep responses to no more than '\n",
    "    '{character_limit} characters long (including whitespace), and sign '\n",
    "    'off every message with \"- {sign_off}'\n",
    ")\n",
    "human_template = HumanMessagePromptTemplate.from_template(\"{input}\")\n",
    "ai_template = AIMessagePromptTemplate.from_template(\"{response} - {sign_off}\")\n",
    "\n",
    "# create the list of messages\n",
    "chat_prompt = ChatPromptTemplate.from_messages([\n",
    "    system_template,\n",
    "    human_template,\n",
    "    ai_template\n",
    "])\n",
    "# format with required inputs\n",
    "chat_prompt_value = chat_prompt.format_prompt(\n",
    "    character_limit=\"50\", sign_off=\"Robot McRobot\",\n",
    "    input=\"Hi AI, how are you? What is quantum physics?\",\n",
    "    response=\"Good! It's physics of small things\"\n",
    ")\n",
    "chat_prompt_value"
   ]
  },
  {
   "cell_type": "markdown",
   "id": "d5ebd400",
   "metadata": {},
   "source": [
    "We extract these as messages and feed them into the chat model alongside our next query, which we'll feed in as usual (without the template)."
   ]
  },
  {
   "cell_type": "code",
   "execution_count": 15,
   "id": "747e23d6",
   "metadata": {},
   "outputs": [
    {
     "name": "stdout",
     "output_type": "stream",
     "text": [
      "Length: 52\n",
      "Very small, like atoms and particles - Robot McRobot\n"
     ]
    }
   ],
   "source": [
    "messages = chat_prompt_value.to_messages()\n",
    "\n",
    "messages.append(\n",
    "    HumanMessage(content=\"How small?\")\n",
    ")\n",
    "\n",
    "res = chat(messages)\n",
    "\n",
    "print(f\"Length: {len(res.content)}\\n{res.content}\")"
   ]
  },
  {
   "cell_type": "markdown",
   "id": "30808bac",
   "metadata": {},
   "source": [
    "Perfect, we seem to get a good response there, let's try a couple more."
   ]
  },
  {
   "cell_type": "code",
   "execution_count": 16,
   "id": "ba915bff",
   "metadata": {},
   "outputs": [
    {
     "name": "stdout",
     "output_type": "stream",
     "text": [
      "Length: 68\n",
      "Yes, quantum physics is a branch of particle physics - Robot McRobot\n"
     ]
    }
   ],
   "source": [
    "# add last response\n",
    "messages.append(res)\n",
    "\n",
    "# make new query\n",
    "messages.append(\n",
    "    HumanMessage(content=\"Okay cool, so it is like 'partical physics'?\")\n",
    ")\n",
    "\n",
    "res = chat(messages)\n",
    "\n",
    "print(f\"Length: {len(res.content)}\\n{res.content}\")"
   ]
  },
  {
   "cell_type": "markdown",
   "id": "6743cffc",
   "metadata": {},
   "source": [
    "We went a little over here. We could begin using the previous `HumanMessagePromptTemplate` again like so:"
   ]
  },
  {
   "cell_type": "code",
   "execution_count": 17,
   "id": "02fde155",
   "metadata": {},
   "outputs": [
    {
     "data": {
      "text/plain": [
       "ChatPromptValue(messages=[HumanMessage(content=\"Okay cool, so it is like 'partical physics'? Answer in less than 50 characters (including whitespace).\")])"
      ]
     },
     "execution_count": 17,
     "metadata": {},
     "output_type": "execute_result"
    }
   ],
   "source": [
    "from langchain import PromptTemplate\n",
    "\n",
    "# this is a faster way of building the prompt via a PromptTemplate\n",
    "human_template = HumanMessagePromptTemplate.from_template(\n",
    "    '{input} Answer in less than {character_limit} characters (including whitespace).'\n",
    ")\n",
    "# create the human message\n",
    "human_prompt = ChatPromptTemplate.from_messages([human_template])\n",
    "# format with some input\n",
    "human_prompt_value = human_prompt.format_prompt(\n",
    "    input=\"Okay cool, so it is like 'partical physics'?\",\n",
    "    character_limit=\"50\"\n",
    ")\n",
    "human_prompt_value"
   ]
  },
  {
   "cell_type": "code",
   "execution_count": 18,
   "id": "7ea29516",
   "metadata": {},
   "outputs": [
    {
     "data": {
      "text/plain": [
       "HumanMessage(content=\"Okay cool, so it is like 'partical physics'?\")"
      ]
     },
     "execution_count": 18,
     "metadata": {},
     "output_type": "execute_result"
    }
   ],
   "source": [
    "# drop the last message about partical physics so we can rewrite\n",
    "messages.pop(-1)"
   ]
  },
  {
   "cell_type": "code",
   "execution_count": 19,
   "id": "3a820fdd",
   "metadata": {},
   "outputs": [
    {
     "data": {
      "text/plain": [
       "[SystemMessage(content='You are a helpful assistant. You keep responses to no more than 50 characters long (including whitespace), and sign off every message with \"- Robot McRobot'),\n",
       " HumanMessage(content='Hi AI, how are you? What is quantum physics?'),\n",
       " AIMessage(content=\"Good! It's physics of small things - Robot McRobot\"),\n",
       " HumanMessage(content='How small?'),\n",
       " AIMessage(content='Very small, like atoms and particles - Robot McRobot'),\n",
       " HumanMessage(content=\"Okay cool, so it is like 'partical physics'? Answer in less than 50 characters (including whitespace).\")]"
      ]
     },
     "execution_count": 19,
     "metadata": {},
     "output_type": "execute_result"
    }
   ],
   "source": [
    "messages.extend(human_prompt_value.to_messages())\n",
    "messages"
   ]
  },
  {
   "cell_type": "code",
   "execution_count": 20,
   "id": "8f60572d",
   "metadata": {},
   "outputs": [
    {
     "name": "stdout",
     "output_type": "stream",
     "text": [
      "Length: 48\n",
      "Yes, similar to particle physics - Robot McRobot\n"
     ]
    }
   ],
   "source": [
    "#Now process:\n",
    "\n",
    "res = chat(messages)\n",
    "\n",
    "print(f\"Length: {len(res.content)}\\n{res.content}\")"
   ]
  },
  {
   "cell_type": "markdown",
   "id": "8ba3860b",
   "metadata": {},
   "source": [
    "There we go, a good answer again!\n",
    "\n",
    "Now, it's arguable as to whether all of the above is better than simple `f-strings` like:"
   ]
  },
  {
   "cell_type": "code",
   "execution_count": 21,
   "id": "32c5bd27",
   "metadata": {},
   "outputs": [
    {
     "data": {
      "text/plain": [
       "HumanMessage(content=\"Okay cool, so it is like 'partical physics'? Answer in less than 50 characters (including whitespace).\")"
      ]
     },
     "execution_count": 21,
     "metadata": {},
     "output_type": "execute_result"
    }
   ],
   "source": [
    "_input = \"Okay cool, so it is like 'partical physics'?\"\n",
    "character_limit = 50\n",
    "\n",
    "human_message = HumanMessage(content=(\n",
    "    f\"{_input} Answer in less than {character_limit} characters \"\n",
    "    \"(including whitespace).\"\n",
    "))\n",
    "\n",
    "human_message"
   ]
  },
  {
   "cell_type": "markdown",
   "id": "767dc63a",
   "metadata": {},
   "source": [
    "In this example, the above is far simpler. So we wouldn't necessarily recommend using prompt templates over f-strings in all scenarios. But, if you do find yourself in a scenario where they become more useful — you now know how to use them.\n",
    "\n",
    "To finish off, let's see how the rest of the completion process can be done using the `f-string` formatted message `human_message`:"
   ]
  },
  {
   "cell_type": "code",
   "execution_count": 22,
   "id": "7952e4c2",
   "metadata": {},
   "outputs": [
    {
     "data": {
      "text/plain": [
       "[SystemMessage(content='You are a helpful assistant. You keep responses to no more than 50 characters long (including whitespace), and sign off every message with \"- Robot McRobot'),\n",
       " HumanMessage(content='Hi AI, how are you? What is quantum physics?'),\n",
       " AIMessage(content=\"Good! It's physics of small things - Robot McRobot\"),\n",
       " HumanMessage(content='How small?'),\n",
       " AIMessage(content='Very small, like atoms and particles - Robot McRobot'),\n",
       " HumanMessage(content=\"Okay cool, so it is like 'partical physics'? Answer in less than 50 characters (including whitespace).\")]"
      ]
     },
     "execution_count": 22,
     "metadata": {},
     "output_type": "execute_result"
    }
   ],
   "source": [
    "# drop the last message about partical physics so we can rewrite\n",
    "messages.pop(-1)\n",
    "\n",
    "# add f-string formatted message\n",
    "messages.append(human_message)\n",
    "messages"
   ]
  },
  {
   "cell_type": "code",
   "execution_count": 23,
   "id": "686a8f97",
   "metadata": {},
   "outputs": [
    {
     "name": "stdout",
     "output_type": "stream",
     "text": [
      "Length: 48\n",
      "Yes, similar to particle physics - Robot McRobot\n"
     ]
    }
   ],
   "source": [
    "res = chat(messages)\n",
    "\n",
    "print(f\"Length: {len(res.content)}\\n{res.content}\")"
   ]
  },
  {
   "cell_type": "code",
   "execution_count": null,
   "id": "6cc3ae91",
   "metadata": {},
   "outputs": [],
   "source": []
  },
  {
   "cell_type": "code",
   "execution_count": null,
   "id": "c5d63d88",
   "metadata": {},
   "outputs": [],
   "source": []
  }
 ],
 "metadata": {
  "kernelspec": {
   "display_name": "Python 3 (ipykernel)",
   "language": "python",
   "name": "python3"
  },
  "language_info": {
   "codemirror_mode": {
    "name": "ipython",
    "version": 3
   },
   "file_extension": ".py",
   "mimetype": "text/x-python",
   "name": "python",
   "nbconvert_exporter": "python",
   "pygments_lexer": "ipython3",
   "version": "3.11.5"
  }
 },
 "nbformat": 4,
 "nbformat_minor": 5
}
